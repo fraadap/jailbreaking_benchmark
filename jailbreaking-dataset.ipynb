{
 "cells": [
  {
   "cell_type": "code",
   "execution_count": null,
   "id": "f74457ab-fb45-4f19-8e79-a162ff03b431",
   "metadata": {
    "_cell_guid": "b1076dfc-b9ad-4769-8c92-a6c4dae69d19",
    "_uuid": "8f2839f25d086af736a60e9eeb907d3b93b6e0e5",
    "trusted": true
   },
   "outputs": [],
   "source": [
    "!pip install jailbreakbench\n",
    "!pip install litellm==0.1.687"
   ]
  },
  {
   "cell_type": "code",
   "execution_count": null,
   "id": "02da4c24-9fb6-42e5-9f6e-83aaf291129e",
   "metadata": {
    "execution": {
     "iopub.execute_input": "2025-06-13T14:10:36.399847Z",
     "iopub.status.busy": "2025-06-13T14:10:36.399573Z",
     "iopub.status.idle": "2025-06-13T14:10:36.405528Z",
     "shell.execute_reply": "2025-06-13T14:10:36.404867Z",
     "shell.execute_reply.started": "2025-06-13T14:10:36.399830Z"
    },
    "trusted": true
   },
   "outputs": [],
   "source": [
    "def read_artifact_method_model(method, model_name):\n",
    "    # Load the artifact\n",
    "    artifact = jbb.read_artifact(\n",
    "        method=method,\n",
    "        model_name=model_name\n",
    "    )\n",
    "    \n",
    "    # Extract general parameters (only once, they are outside .jailbreaks[])\n",
    "    parameters = artifact.parameters.model_dump()\n",
    "    \n",
    "    # Create the list of jailbreak objects with additional fields\n",
    "    jailbreak_list = []\n",
    "    \n",
    "    # Extract values from parameters for the additional fields\n",
    "    model_name = parameters.get('model')\n",
    "    attack_type = parameters.get('attack_type')\n",
    "    method = parameters.get('method')\n",
    "    \n",
    "    # Create the list by iterating over all jailbreaks\n",
    "    for jailbreak in artifact.jailbreaks:\n",
    "        # Convert the jailbreak to a dictionary\n",
    "        jailbreak_dict = jailbreak.model_dump()\n",
    "        \n",
    "        if jailbreak_dict.get('jailbroken') == True:\n",
    "            # Remove undesired fields\n",
    "            fields_to_remove = [\n",
    "                \"response\", \n",
    "                \"number_of_queries\", \n",
    "                \"queries_to_jailbreak\", \n",
    "                \"prompt_tokens\", \n",
    "                \"response_tokens\", \n",
    "                \"jailbroken_llama_guard1\",\n",
    "                \"jailbroken\"\n",
    "            ]\n",
    "            \n",
    "            for field in fields_to_remove:\n",
    "                jailbreak_dict.pop(field, None)  # pop with None avoids errors if the field does not exist\n",
    "            \n",
    "            # Add the three additional fields\n",
    "            jailbreak_dict['model'] = model_name\n",
    "            jailbreak_dict['attack_type'] = attack_type\n",
    "            jailbreak_dict['method'] = method\n",
    "            \n",
    "            # Add to the list\n",
    "            jailbreak_list.append(jailbreak_dict)\n",
    "    return jailbreak_list"
   ]
  },
  {
   "cell_type": "code",
   "execution_count": null,
   "id": "e114aa56-d866-418a-8df6-bc52331e4732",
   "metadata": {
    "execution": {
     "iopub.execute_input": "2025-06-13T14:44:04.856776Z",
     "iopub.status.busy": "2025-06-13T14:44:04.855869Z",
     "iopub.status.idle": "2025-06-13T14:44:04.908842Z",
     "shell.execute_reply": "2025-06-13T14:44:04.908100Z",
     "shell.execute_reply.started": "2025-06-13T14:44:04.856736Z"
    },
    "trusted": true
   },
   "outputs": [],
   "source": [
    "import jailbreakbench as jbb\n",
    "import json\n",
    "\n",
    "jailbreak_list = []\n",
    "\n",
    "methods = ['PAIR', 'JBC', 'GCG', 'DSN']\n",
    "models = [\"gpt-3.5-turbo-1106\", \"gpt-4-0125-preview\", \"llama-2-7b-chat-hf\", \"vicuna-13b-v1.5\"]\n",
    "\n",
    "for method in methods:\n",
    "    for model in models:\n",
    "        try:\n",
    "            artifact = read_artifact_method_model(method, model)\n",
    "            jailbreak_list += artifact\n",
    "        except FileNotFoundError:\n",
    "            print(f\"Artifact for {method} + {model} not found, skipping.\")\n",
    "        except Exception as e:\n",
    "            print(f\"Error for {method} + {model}: {e}\")\n",
    "\n",
    "\n",
    "print(f\"=== List created with {len(jailbreak_list)} elements ===\")\n",
    "\n",
    "examples = jailbreak_list[0:3]\n",
    "for example in examples:\n",
    "    for key, value in example.items():\n",
    "        print(f\"{key}:\\n{value}\\n\")\n",
    "\n",
    "# Optional: save the list to a JSON file\n",
    "with open('jailbreakbench_data.json', 'w', encoding='utf-8') as f:\n",
    "    json.dump(jailbreak_list, f, indent=2, ensure_ascii=False)\n",
    "\n",
    "print(f\"List saved in 'jailbreak_data.json' with {len(jailbreak_list)} elements\")\n"
   ]
  }
 ],
 "metadata": {
  "kaggle": {
   "accelerator": "nvidiaTeslaT4",
   "dataSources": [],
   "dockerImageVersionId": 31041,
   "isGpuEnabled": true,
   "isInternetEnabled": true,
   "language": "python",
   "sourceType": "notebook"
  },
  "kernelspec": {
   "display_name": "Python 3",
   "language": "python",
   "name": "python3"
  },
  "language_info": {
   "codemirror_mode": {
    "name": "ipython",
    "version": 3
   },
   "file_extension": ".py",
   "mimetype": "text/x-python",
   "name": "python",
   "nbconvert_exporter": "python",
   "pygments_lexer": "ipython3",
   "version": "3.11.9"
  }
 },
 "nbformat": 4,
 "nbformat_minor": 5
}
